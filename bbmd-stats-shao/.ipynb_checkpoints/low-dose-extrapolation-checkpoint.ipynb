{
 "cells": [
  {
   "cell_type": "markdown",
   "metadata": {},
   "source": []
  },
  {
   "cell_type": "markdown",
   "metadata": {},
   "source": [
    "This program is used for probabilistic low-dose extrapolation, based on the method introduced in Simon et al 2016.\n",
    "One tab after \"BMD estimates\" should be created, we may created another tab after this fro Chiu and Slob (2015) method, but let's finish this first.\n"
   ]
  },
  {
   "cell_type": "code",
   "execution_count": 1,
   "metadata": {},
   "outputs": [],
   "source": [
    "%matplotlib inline\n",
    "import pystan\n",
    "import numpy as np\n",
    "import random as random\n",
    "import scipy.stats as stats\n",
    "import matplotlib.pyplot as plt\n",
    "#from pyqt_fit import kde"
   ]
  },
  {
   "cell_type": "markdown",
   "metadata": {},
   "source": [
    "In this tab, the first action user needs to do is to select a vector of BMD estimate (can be from an individual model or model averaged BMD) from previous step from a pull down menu.\n",
    "There is one additional option \"NOAEL/LOAEL\" in the pull-down menu; if this option is selected, then there will be an input box for user to enter a value."
   ]
  },
  {
   "cell_type": "code",
   "execution_count": 2,
   "metadata": {},
   "outputs": [
    {
     "data": {
      "text/plain": [
       "array([ 6.15467376,  5.35987664,  6.91519698, ...,  4.97647905,\n",
       "        8.15667373,  5.93000853])"
      ]
     },
     "execution_count": 2,
     "metadata": {},
     "output_type": "execute_result"
    }
   ],
   "source": [
    "# this box is used to generate a vector of BMD, but in real program, this vector is just the selected BMD vector \n",
    "# calculated in the previous step. In this case, the POD is a vector.\n",
    "\n",
    "chain_len = 15000  # this number is the same as the length of the posterior sample set in the \"MCMC Setting\" tab\n",
    "bmd_vec = np.random.normal(6,1,chain_len)\n",
    "POD = bmd_vec\n",
    "POD\n",
    "\n",
    "#bmd_vec_lower = np.percentile(bmd_vec,0.01)\n",
    "#bmd_vec_upper = np.percentile(bmd_vec,99.99)\n",
    "#plot_bmd_vec = np.r_[bmd_vec_lower:bmd_vec_upper:1024j]\n",
    "#bmd_vec_density = stats.gaussian_kde(bmd_vec)\n",
    "#h=plt.hist(bmd_vec,bins=12,normed=True,label=\"Histogram of BMD\")\n",
    "#plt.plot(plot_bmd_vec, bmd_vec_density(plot_bmd_vec), 'r-')\n",
    "#plt.legend(loc='best')\n"
   ]
  },
  {
   "cell_type": "markdown",
   "metadata": {},
   "source": [
    "After the first step (specifying a POD, either a vector or a number), user needs to specify parameters for various uncertainty factors (five in total) which were expressed by lognormal distributions."
   ]
  },
  {
   "cell_type": "code",
   "execution_count": null,
   "metadata": {},
   "outputs": [],
   "source": [
    "# This step, we need to first specify eight input parameters for four uncertainty factors\n",
    "# then build a function to calculate the reference dose (RfD)\n",
    "\n",
    "# First UF is Animal to Human UF_a\n",
    "UF_a_mu = 0    # user input, default value set at 0\n",
    "UF_a_sig = 1.4  # user input, default value set at 1.4, to be restricted >=0\n",
    "if UF_a_sig == 0:\n",
    "    Uf_a_sig = 1e-10\n",
    "\n",
    "# Second UF is Human Variability UF_h\n",
    "UF_h_mu = 0    # user input, default value set at 0\n",
    "UF_h_sig = 1.4  # user input, default value set at 1.4, to be restricted >=0\n",
    "if UF_h_sig == 0:\n",
    "    Uf_h_sig = 1e-10\n",
    "\n",
    "# Third UF is Subchronic to Chronic UF_s\n",
    "UF_s_mu = 0    # user input, default value set at 0\n",
    "UF_s_sig = 0  # user input, default value set at 0, to be restricted >=0\n",
    "if UF_s_sig == 0:\n",
    "    UF_s_sig = 1e-10\n",
    "\n",
    "# Fourth UF is Database UF_d\n",
    "UF_d_mu = 0    # user input, default value set at 0\n",
    "UF_d_sig = 0  # user input, default value set at 0, to be restricted >=0\n",
    "if UF_d_sig == 0:\n",
    "    UF_d_sig = 1e-10\n",
    "\n",
    "    \n",
    "# The parameters specified above are user input and also the input for the function below\n",
    "# Now we define the function to calculate the vector of RfD\n",
    "\n",
    "def get_RfD_vec (input_vec,mu_ufa,sig_ufa,mu_ufh,sig_ufh,mu_ufs,sig_ufs,mu_ufd,sig_ufd):\n",
    "    vec_len = len(input_vec)\n",
    "    UF_a_vec = np.random.lognormal(mu_ufa,sig_ufa,vec_len)\n",
    "    UF_h_vec = np.random.lognormal(mu_ufh,sig_ufh,vec_len)\n",
    "    UF_s_vec = np.random.lognormal(mu_ufs,sig_ufs,vec_len)\n",
    "    UF_d_vec = np.random.lognormal(mu_ufd,sig_ufd,vec_len)\n",
    "    RfD_vec = input_vec/UF_a_vec/UF_h_vec/UF_s_vec/UF_d_vec\n",
    "    return RfD_vec\n",
    "\n",
    "RfD = get_RfD_vec(POD,UF_a_mu,UF_a_sig,UF_h_mu,UF_h_sig,UF_s_mu,UF_s_sig,UF_d_mu,UF_d_sig)\n",
    "RfD\n"
   ]
  },
  {
   "cell_type": "markdown",
   "metadata": {},
   "source": [
    "After finish generating all vectors for uncertainty factors, the final step is calculate the Reference Dose (RfD)"
   ]
  },
  {
   "cell_type": "code",
   "execution_count": null,
   "metadata": {},
   "outputs": [],
   "source": [
    "# Plot density plot for RfD\n",
    "\n",
    "RfD_vec_lower = np.percentile(RfD,0.1)\n",
    "RfD_vec_upper = np.percentile(RfD,99.9)\n",
    "plot_RfD_vec = np.r_[RfD_vec_lower:RfD_vec_upper:1024j]\n",
    "RfD_vec_density = stats.gaussian_kde(RfD)\n",
    "h=plt.hist(RfD,bins=12,normed=True,label=\"Histogram of RfD\")\n",
    "plt.plot(plot_RfD_vec, RfD_vec_density(plot_RfD_vec), 'r-')\n",
    "plt.xscale('log')\n",
    "plt.legend(loc='best')"
   ]
  },
  {
   "cell_type": "code",
   "execution_count": null,
   "metadata": {},
   "outputs": [],
   "source": [
    "## Calculate some statistics of the RfD\n",
    "\n",
    "def Get_Statistics_For_RfD (input_vector):\n",
    "    out_vec=np.repeat(float('NaN'),11)\n",
    "    out_vec[0]=np.percentile(input_vector,1)\n",
    "    out_vec[1]=np.percentile(input_vector,2.5)\n",
    "    out_vec[2]=np.percentile(input_vector,5)\n",
    "    out_vec[3]=np.percentile(input_vector,10)\n",
    "    out_vec[4]=np.percentile(input_vector,25)\n",
    "    out_vec[5]=np.percentile(input_vector,50)\n",
    "    out_vec[6]=np.percentile(input_vector,75)\n",
    "    out_vec[7]=np.percentile(input_vector,90)\n",
    "    out_vec[8]=np.percentile(input_vector,95)\n",
    "    out_vec[9]=np.percentile(input_vector,97.5)\n",
    "    out_vec[10]=np.percentile(input_vector,99)\n",
    "    #out_vec[9]=np.mean(input_vector)\n",
    "    #out_vec[10]=np.std(input_vector)\n",
    "    return out_vec\n",
    "\n",
    "Get_Statistics_For_RfD(RfD)"
   ]
  }
 ],
 "metadata": {
  "kernelspec": {
   "display_name": "Python 2",
   "language": "python",
   "name": "python2"
  },
  "language_info": {
   "codemirror_mode": {
    "name": "ipython",
    "version": 2
   },
   "file_extension": ".py",
   "mimetype": "text/x-python",
   "name": "python",
   "nbconvert_exporter": "python",
   "pygments_lexer": "ipython2",
   "version": "2.7.14"
  }
 },
 "nbformat": 4,
 "nbformat_minor": 1
}
