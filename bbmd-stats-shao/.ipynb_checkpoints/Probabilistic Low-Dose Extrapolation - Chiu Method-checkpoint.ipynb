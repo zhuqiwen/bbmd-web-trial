{
 "cells": [
  {
   "cell_type": "markdown",
   "metadata": {},
   "source": []
  },
  {
   "cell_type": "markdown",
   "metadata": {},
   "source": [
    "This program is used for probabilistic low-dose extrapolation, based on the method introduced in Chiu and Slob 2015.\n"
   ]
  },
  {
   "cell_type": "code",
   "execution_count": 1,
   "metadata": {},
   "outputs": [],
   "source": [
    "%matplotlib inline\n",
    "import pystan\n",
    "import numpy as np\n",
    "import random as random\n",
    "import scipy.stats as stats\n",
    "import matplotlib.pyplot as plt\n",
    "#from pyqt_fit import kde"
   ]
  },
  {
   "cell_type": "markdown",
   "metadata": {},
   "source": [
    "In this tab, the first action user needs to take is to select one of the model-averaged BMD vectors estimated in the previous step from a pull down menu."
   ]
  },
  {
   "cell_type": "code",
   "execution_count": 2,
   "metadata": {},
   "outputs": [
    {
     "data": {
      "text/plain": [
       "array([ 10.39056278,  10.55241787,  10.10963685, ...,  10.88182302,\n",
       "         8.73934554,   9.36883775])"
      ]
     },
     "execution_count": 2,
     "metadata": {},
     "output_type": "execute_result"
    }
   ],
   "source": [
    "# this box is used to generate a vector of BMD, but in real program, this vector is just the selected BMD vector \n",
    "# calculated in the previous step. In this case, the POD is a vector.\n",
    "\n",
    "chain_len = 15000  # this number is the same as the length of the posterior sample set in the \"MCMC Setting\" tab\n",
    "bmd_vec = np.random.normal(10,1,chain_len)\n",
    "POD = bmd_vec\n",
    "POD\n",
    "\n",
    "#bmd_vec_lower = np.percentile(bmd_vec,0.01)\n",
    "#bmd_vec_upper = np.percentile(bmd_vec,99.99)\n",
    "#plot_bmd_vec = np.r_[bmd_vec_lower:bmd_vec_upper:1024j]\n",
    "#bmd_vec_density = stats.gaussian_kde(bmd_vec)\n",
    "#h=plt.hist(bmd_vec,bins=12,normed=True,label=\"Histogram of BMD\")\n",
    "#plt.plot(plot_bmd_vec, bmd_vec_density(plot_bmd_vec), 'r-')\n",
    "#plt.legend(loc='best')\n"
   ]
  },
  {
   "cell_type": "markdown",
   "metadata": {},
   "source": [
    "After the first step of specifying a POD (i.e., a model-averaged BMD vector), user needs to specify parameters for various factors, mainly in two segments: evaluating uncertainty and evaluating variability"
   ]
  },
  {
   "cell_type": "code",
   "execution_count": 3,
   "metadata": {},
   "outputs": [
    {
     "data": {
      "text/plain": [
       "array([ 0.70293014,  1.88025662,  2.13917846, ...,  1.44476755,\n",
       "        1.26619864,  1.39926066])"
      ]
     },
     "execution_count": 3,
     "metadata": {},
     "output_type": "execute_result"
    }
   ],
   "source": [
    "# This box is for evaluating uncertainty\n",
    "# There are a number of factors to be speficied by user, but we should put a default value for these factors\n",
    "\n",
    "# Factor: Animal Body Weight - This is a user-input value\n",
    "bw_a = 0.5  # unit: kg; default value 0.5; to be restricted >0\n",
    "\n",
    "# Factor: Human Body Weight -  This is a user-input value\n",
    "bw_h = 70   # unit: kg; default value 70; to be restricted >0\n",
    "\n",
    "# Factor: Allometric scaling exponent, geometric mean (i.e., median estimation) - This is a user-input value\n",
    "alpha_m = 0.7  #default value 0.7; restricted to be between 0 and 1\n",
    "\n",
    "# Factor: Allometric scaling exponent, geometric standard deviation (i.e., median estimation) - This is a user-input value\n",
    "alpha_sd = 0.0243  #default value 0.0243; to be restricted > 0\n",
    "\n",
    "# Factor: Animal to Human Uncertainty, geometric mean (i.e., median estimation) - This is a user-input value\n",
    "AHU_gm = 1  # default value 1; to be restricted > 0\n",
    "\n",
    "# Factor: Animal to Human Uncertainty, geometric standard deviation - This is a user-input value\n",
    "AHU_gsd = 1.95  # default value 1.95; to be restricted > 1\n",
    "if AHU_gsd == 1:\n",
    "    AHU_gsd = 1.00000001\n",
    "\n",
    "# Factor: Other Uncertainty, geometric mean (i.e., median estimation) - This is a user-input value\n",
    "OU_gm = 1  # default value 1; to be restricted > 0\n",
    "\n",
    "# Factor: Other Uncertainty, geometric standard deviation - This is a user-input value\n",
    "OU_gsd = 1  # default value 1; to be restricted >= 1\n",
    "if OU_gsd == 1:\n",
    "    OU_gsd = 1.00000001\n",
    "\n",
    "## define the function to calcuate HD50\n",
    "\n",
    "def get_HD50_vec (input_BMD_vec,bwa,bwh,alpha_mu,alpha_std,AHU_mu,AHU_std,OU_mu,OU_std):\n",
    "    vec_len = len(input_BMD_vec)\n",
    "    DAF_gm = (bwa/bwh)**(1-alpha_mu)\n",
    "    DAF_gsd = (bwa/bwh)**(-alpha_std)\n",
    "    DAF_vec = np.exp(np.random.normal(np.log(DAF_gm),np.log(DAF_gsd),vec_len))\n",
    "    AHU_vec = np.exp(np.random.normal(np.log(AHU_mu),np.log(AHU_std),vec_len))\n",
    "    OU_vec = np.exp(np.random.normal(np.log(OU_mu),np.log(OU_std),vec_len))\n",
    "    HD50_vec = input_BMD_vec * DAF_vec / (AHU_vec * OU_vec)\n",
    "    return HD50_vec\n",
    "\n",
    "HD50 = get_HD50_vec(POD,bw_a,bw_h,alpha_m,alpha_sd,AHU_gm,AHU_gsd,OU_gm,OU_gsd)\n",
    "\n",
    "HD50\n",
    "\n",
    "#DAF_gm = (bw_a/bw_h)**(1-alpha_m)\n",
    "#DAF_gsd = (bw_a/bw_h)**(-alpha_sd)\n",
    "\n",
    "#DAF_vec = np.exp(np.random.normal(np.log(DAF_gm),np.log(DAF_gsd),chain_len))\n",
    "#AHU_vec = np.exp(np.random.normal(np.log(AHU_gm),np.log(AHU_gsd),chain_len))\n",
    "\n",
    "#OU_vec = np.exp(np.random.normal(np.log(OU_gm),np.log(OU_gsd),chain_len))\n",
    "\n",
    "#HD50 = POD * DAF_vec / (AHU_vec * OU_vec)\n",
    "\n",
    "#comments: In this version, I programed the process the HD50 as a function."
   ]
  },
  {
   "cell_type": "code",
   "execution_count": 4,
   "metadata": {},
   "outputs": [
    {
     "data": {
      "text/plain": [
       "array([  0.45174752,   0.722092  ,   0.9300455 ,   1.41704677,\n",
       "         2.24666398,   3.57893604,   5.47059445,   6.90241457,\n",
       "        11.21852726,   2.84591013,   2.17611895])"
      ]
     },
     "execution_count": 4,
     "metadata": {},
     "output_type": "execute_result"
    }
   ],
   "source": [
    "## Calculate some statistics of the RfD\n",
    "\n",
    "def Get_Statistics_For_Vec (input_vector):\n",
    "    out_vec=np.repeat(float('NaN'),11)\n",
    "    out_vec[0]=np.percentile(input_vector,1)\n",
    "    out_vec[1]=np.percentile(input_vector,5)\n",
    "    out_vec[2]=np.percentile(input_vector,10)\n",
    "    out_vec[3]=np.percentile(input_vector,25)\n",
    "    out_vec[4]=np.percentile(input_vector,50)\n",
    "    out_vec[5]=np.percentile(input_vector,75)\n",
    "    out_vec[6]=np.percentile(input_vector,90)\n",
    "    out_vec[7]=np.percentile(input_vector,95)\n",
    "    out_vec[8]=np.percentile(input_vector,99)\n",
    "    out_vec[9]=np.mean(input_vector)\n",
    "    out_vec[10]=np.std(input_vector)\n",
    "    return out_vec\n",
    "\n",
    "Get_Statistics_For_Vec(HD50)"
   ]
  },
  {
   "cell_type": "code",
   "execution_count": 5,
   "metadata": {},
   "outputs": [
    {
     "data": {
      "text/plain": [
       "<matplotlib.legend.Legend at 0x109bddbd0>"
      ]
     },
     "execution_count": 5,
     "metadata": {},
     "output_type": "execute_result"
    },
    {
     "data": {
      "image/png": "[encoded data removed]",
      "text/plain": [
       "<matplotlib.figure.Figure at 0x105a3acd0>"
      ]
     },
     "metadata": {},
     "output_type": "display_data"
    }
   ],
   "source": [
    "# Plot density plot for HD50\n",
    "\n",
    "HD50_vec_lower = np.percentile(HD50,0.1)\n",
    "HD50_vec_upper = np.percentile(HD50,99.9)\n",
    "plot_HD50_vec = np.r_[HD50_vec_lower:HD50_vec_upper:1024j]\n",
    "HD50_vec_density = stats.gaussian_kde(HD50)\n",
    "h=plt.hist(HD50,bins=12,normed=True,label=\"Histogram of HD50\")\n",
    "plt.plot(plot_HD50_vec, HD50_vec_density(plot_HD50_vec), 'r-')\n",
    "plt.xscale('log')\n",
    "plt.legend(loc='best')"
   ]
  },
  {
   "cell_type": "code",
   "execution_count": 6,
   "metadata": {},
   "outputs": [
    {
     "data": {
      "text/plain": [
       "array([ 0.04201852,  0.11222162,  0.17549289,  0.32977675,  0.61480555,\n",
       "        1.11978072,  1.82441249,  2.43858849,  4.25302465,  0.86854036,\n",
       "        0.85823073])"
      ]
     },
     "execution_count": 6,
     "metadata": {},
     "output_type": "execute_result"
    }
   ],
   "source": [
    "# This box is for evaluating variability\n",
    "# Similarly, there are some factors to be speficied by user with default value\n",
    "\n",
    "# Factor: Human variability factor, sigmaH, geometric mean (i.e., median estimation) - This is a user-input value\n",
    "sigmaH_gm = 0.746  # default value 0.746; to be restricted > 0\n",
    "\n",
    "# Factor: Human variability factor, sigmaH, geometric standard deviation - This is a user-input value\n",
    "sigmaH_gsd = 1.5935  # default value 1.5935; to be restricted >= 1\n",
    "if sigmaH_gsd == 1:\n",
    "    sigmaH_gsd = 1.00000001\n",
    "\n",
    "# Factor: Target incidence values, I_star, - This is a user-input value\n",
    "I_star = 0.05  # This value is between 0 and 1\n",
    "\n",
    "def get_HDMI_vec (HD50_input,sigH_m,sigH_sd,Istar,length):\n",
    "    sigH_vec = np.exp(np.random.normal(np.log(sigH_m),np.log(sigH_sd),length))\n",
    "    HDMI_vec = HD50_input * np.exp(stats.norm.ppf(Istar) * sigH_vec)\n",
    "    return HDMI_vec\n",
    "\n",
    "HDMI = get_HDMI_vec(HD50,sigmaH_gm,sigmaH_gsd,I_star,chain_len)\n",
    "\n",
    "Get_Statistics_For_Vec(HDMI)"
   ]
  },
  {
   "cell_type": "code",
   "execution_count": 7,
   "metadata": {},
   "outputs": [
    {
     "data": {
      "text/plain": [
       "<matplotlib.legend.Legend at 0x109f0cc50>"
      ]
     },
     "execution_count": 7,
     "metadata": {},
     "output_type": "execute_result"
    },
    {
     "data": {
      "image/png": "[encoded data removed]",
      "text/plain": [
       "<matplotlib.figure.Figure at 0x109ac0750>"
      ]
     },
     "metadata": {},
     "output_type": "display_data"
    }
   ],
   "source": [
    "# Plot density plot for HDMI\n",
    "\n",
    "HDMI_vec_lower = np.percentile(HDMI,0.1)\n",
    "HDMI_vec_upper = np.percentile(HDMI,99.9)\n",
    "plot_HDMI_vec = np.r_[HDMI_vec_lower:HDMI_vec_upper:1024j]\n",
    "HDMI_vec_density = stats.gaussian_kde(HDMI)\n",
    "h=plt.hist(HDMI,bins=12,normed=True,label=\"Histogram of HDMI\")\n",
    "plt.plot(plot_HDMI_vec, HDMI_vec_density(plot_HDMI_vec), 'r-')\n",
    "plt.xscale('log')\n",
    "plt.legend(loc='best')"
   ]
  },
  {
   "cell_type": "markdown",
   "metadata": {},
   "source": [
    "In the web interface, we set four intake cells for user to input values for I_star.\n",
    "Then we will calculte four HDMIs for the four input I_star values, and show the statistics and plots for these four HDMIs to user.\n"
   ]
  }
 ],
 "metadata": {
  "kernelspec": {
   "display_name": "Python 2",
   "language": "python",
   "name": "python2"
  },
  "language_info": {
   "codemirror_mode": {
    "name": "ipython",
    "version": 2
   },
   "file_extension": ".py",
   "mimetype": "text/x-python",
   "name": "python",
   "nbconvert_exporter": "python",
   "pygments_lexer": "ipython2",
   "version": "2.7.14"
  }
 },
 "nbformat": 4,
 "nbformat_minor": 1
}
